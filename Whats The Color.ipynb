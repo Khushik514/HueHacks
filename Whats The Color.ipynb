{
 "cells": [
  {
   "cell_type": "code",
   "execution_count": 1,
   "metadata": {},
   "outputs": [],
   "source": [
    "#import all libraries\n",
    "import numpy\n",
    "from PIL import Image as img\n",
    "import cv2 as opencv"
   ]
  },
  {
   "cell_type": "code",
   "execution_count": 5,
   "metadata": {},
   "outputs": [],
   "source": [
    "#function to get the RGB and to set that RGB as the background for the message\n",
    "def colorclick(e, X, Y, counters, arg):\n",
    "    if e == opencv.EVENT_LBUTTONDBLCLK:\n",
    "        red, green, blue = rgbimg.getpixel((X, Y))\n",
    "        message = str(red) + \" , \" + str(green) + \" , \" + str(blue)\n",
    "        background = numpy.zeros((200, 400, 3), numpy.uint8)\n",
    "        background[:,0:400] = (blue, green, red)\n",
    "        style = opencv.FONT_ITALIC\n",
    "        opencv.putText(background, message, (10,100), style, 1, (255,255,255), 2, opencv.LINE_AA)\n",
    "        opencv.imshow('RGB', background)"
   ]
  },
  {
   "cell_type": "code",
   "execution_count": 8,
   "metadata": {},
   "outputs": [],
   "source": [
    "snap = opencv.VideoCapture(0) #to capture live video from webcam\n",
    "while(True):\n",
    "    t, frame = snap.read()\n",
    "    flip = opencv.flip(frame, 1)\n",
    "    opencv.imshow('Live Video', flip)\n",
    "    if opencv.waitKey(1) & 0xFF == ord('k'): #press 'k' to get a snapshot from the live video\n",
    "        opencv.imwrite('ss.png',flip)\n",
    "        imge = img.open('ss.png')\n",
    "        rgbimg = imge.convert('RGB')\n",
    "        opencv.imshow('Snapshot',flip)\n",
    "        opencv.setMouseCallback('Snapshot', colorclick)\n",
    "    elif opencv.waitKey(1) & 0xFF == ord('q'): #press 'q' to end capturing live video\n",
    "        break\n",
    "snap.release()\n",
    "opencv.destroyAllWindows()"
   ]
  },
  {
   "cell_type": "code",
   "execution_count": null,
   "metadata": {},
   "outputs": [],
   "source": []
  }
 ],
 "metadata": {
  "kernelspec": {
   "display_name": "Python 3",
   "language": "python",
   "name": "python3"
  },
  "language_info": {
   "codemirror_mode": {
    "name": "ipython",
    "version": 3
   },
   "file_extension": ".py",
   "mimetype": "text/x-python",
   "name": "python",
   "nbconvert_exporter": "python",
   "pygments_lexer": "ipython3",
   "version": "3.8.3"
  }
 },
 "nbformat": 4,
 "nbformat_minor": 4
}
